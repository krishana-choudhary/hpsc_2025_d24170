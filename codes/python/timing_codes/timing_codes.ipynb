{
 "cells": [
  {
   "cell_type": "code",
   "execution_count": 34,
   "id": "7c66822c",
   "metadata": {},
   "outputs": [
    {
     "name": "stdout",
     "output_type": "stream",
     "text": [
      "Requirement already satisfied: numpy in /home/hpsc/Desktop/course-venv/venv/lib/python3.10/site-packages (1.24.1)\r\n"
     ]
    }
   ],
   "source": [
    "#Libraries needed for today's session to be installed\n",
    "!pip install numpy"
   ]
  },
  {
   "cell_type": "code",
   "execution_count": 1,
   "id": "00bb2ebf",
   "metadata": {},
   "outputs": [
    {
     "ename": "ModuleNotFoundError",
     "evalue": "No module named 'mysqrt'",
     "output_type": "error",
     "traceback": [
      "\u001b[0;31m---------------------------------------------------------------------------\u001b[0m",
      "\u001b[0;31mModuleNotFoundError\u001b[0m                       Traceback (most recent call last)",
      "Cell \u001b[0;32mIn[1], line 1\u001b[0m\n\u001b[0;32m----> 1\u001b[0m \u001b[38;5;28;01mimport\u001b[39;00m \u001b[38;5;21;01mmysqrt\u001b[39;00m \n",
      "\u001b[0;31mModuleNotFoundError\u001b[0m: No module named 'mysqrt'"
     ]
    }
   ],
   "source": [
    "import mysqrt \n"
   ]
  },
  {
   "cell_type": "code",
   "execution_count": 2,
   "id": "a991e35d",
   "metadata": {},
   "outputs": [
    {
     "data": {
      "text/plain": [
       "'/home/hpsc/github/hpsc_2025_d24170/codes/python/timing_codes'"
      ]
     },
     "execution_count": 2,
     "metadata": {},
     "output_type": "execute_result"
    }
   ],
   "source": [
    "pwd"
   ]
  },
  {
   "cell_type": "code",
   "execution_count": 6,
   "id": "624bd4b0",
   "metadata": {},
   "outputs": [
    {
     "data": {
      "text/plain": [
       "['/home/hpsc/github/hpsc_2025_d24170/codes/python/timing_codes',\n",
       " '/usr/lib/python310.zip',\n",
       " '/usr/lib/python3.10',\n",
       " '/usr/lib/python3.10/lib-dynload',\n",
       " '',\n",
       " '/home/hpsc/Desktop/course-venv/venv/lib/python3.10/site-packages',\n",
       " '/home/hpsc/github/hpsc_2025_d24170/codes/python/mysqrt']"
      ]
     },
     "execution_count": 6,
     "metadata": {},
     "output_type": "execute_result"
    }
   ],
   "source": [
    "import sys\n",
    "sys.path"
   ]
  },
  {
   "cell_type": "code",
   "execution_count": 5,
   "id": "73a224f8",
   "metadata": {},
   "outputs": [],
   "source": [
    "sys.path.append('/home/hpsc/github/hpsc_2025_d24170/codes/python/mysqrt')"
   ]
  },
  {
   "cell_type": "code",
   "execution_count": 22,
   "id": "d99e2b35",
   "metadata": {},
   "outputs": [
    {
     "name": "stdout",
     "output_type": "stream",
     "text": [
      "At iteration 0, the value of s =    1.000000000000000\n",
      "At iteration 1, the value of s =    1.500000000000000\n",
      "At iteration 2, the value of s =    1.416666666666667\n",
      "At iteration 3, the value of s =    1.414215686274510\n",
      "At iteration 4, the value of s =    1.414213562374690\n",
      "At iteration 5, the value of s =    1.414213562373095\n",
      "finally the value of s=1.414213562373095\n"
     ]
    },
    {
     "data": {
      "text/plain": [
       "1.414213562373095"
      ]
     },
     "execution_count": 22,
     "metadata": {},
     "output_type": "execute_result"
    }
   ],
   "source": [
    "import mysqrt\n",
    "mysqrt.sqrt2(2.0, True)"
   ]
  },
  {
   "cell_type": "code",
   "execution_count": 16,
   "id": "9d588839",
   "metadata": {},
   "outputs": [
    {
     "name": "stdout",
     "output_type": "stream",
     "text": [
      "3.36 µs ± 148 ns per loop (mean ± std. dev. of 7 runs, 100,000 loops each)\n"
     ]
    }
   ],
   "source": [
    "timeit mysqrt.sqrt2(2.0)"
   ]
  },
  {
   "cell_type": "code",
   "execution_count": 25,
   "id": "115262f9",
   "metadata": {},
   "outputs": [
    {
     "data": {
      "text/plain": [
       "1.4142135623730951"
      ]
     },
     "execution_count": 25,
     "metadata": {},
     "output_type": "execute_result"
    }
   ],
   "source": [
    "import numpy as np\n",
    "np.sqrt(2.)"
   ]
  },
  {
   "cell_type": "code",
   "execution_count": 20,
   "id": "3db7ff03",
   "metadata": {},
   "outputs": [
    {
     "name": "stdout",
     "output_type": "stream",
     "text": [
      "869 ns ± 8.56 ns per loop (mean ± std. dev. of 7 runs, 1,000,000 loops each)\n"
     ]
    }
   ],
   "source": [
    "timeit np.sqrt(2.)"
   ]
  },
  {
   "cell_type": "code",
   "execution_count": 27,
   "id": "21088ca2",
   "metadata": {},
   "outputs": [
    {
     "data": {
      "text/plain": [
       "array([   0.,    1.,    2., ...,  998.,  999., 1000.])"
      ]
     },
     "execution_count": 27,
     "metadata": {},
     "output_type": "execute_result"
    }
   ],
   "source": [
    "x = np.linspace(0,1000,1001)\n",
    "x"
   ]
  },
  {
   "cell_type": "code",
   "execution_count": 29,
   "id": "622f97e0",
   "metadata": {},
   "outputs": [
    {
     "name": "stdout",
     "output_type": "stream",
     "text": [
      "1.78 µs ± 15.1 ns per loop (mean ± std. dev. of 7 runs, 1,000,000 loops each)\n"
     ]
    }
   ],
   "source": [
    "timeit y = np.sqrt(x)"
   ]
  },
  {
   "cell_type": "code",
   "execution_count": 30,
   "id": "39298aff",
   "metadata": {},
   "outputs": [
    {
     "name": "stdout",
     "output_type": "stream",
     "text": [
      "4.63 ms ± 100 µs per loop (mean ± std. dev. of 7 runs, 100 loops each)\n"
     ]
    }
   ],
   "source": [
    "%%timeit\n",
    "for i in range(1001):\n",
    "    mysqrt.sqrt2(i)"
   ]
  },
  {
   "cell_type": "code",
   "execution_count": 33,
   "id": "cd008742",
   "metadata": {},
   "outputs": [
    {
     "name": "stdout",
     "output_type": "stream",
     "text": [
      "6.961822509765625e-05\n"
     ]
    }
   ],
   "source": [
    "tic = time.time()\n",
    "y = np.sqrt(12.03)\n",
    "toc = time.time()\n",
    "print(toc-tic)"
   ]
  },
  {
   "cell_type": "code",
   "execution_count": null,
   "id": "4c3e02f5",
   "metadata": {},
   "outputs": [],
   "source": []
  }
 ],
 "metadata": {
  "kernelspec": {
   "display_name": "Python 3 (ipykernel)",
   "language": "python",
   "name": "python3"
  },
  "language_info": {
   "codemirror_mode": {
    "name": "ipython",
    "version": 3
   },
   "file_extension": ".py",
   "mimetype": "text/x-python",
   "name": "python",
   "nbconvert_exporter": "python",
   "pygments_lexer": "ipython3",
   "version": "3.10.12"
  }
 },
 "nbformat": 4,
 "nbformat_minor": 5
}
